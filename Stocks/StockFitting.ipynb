{
 "cells": [
  {
   "cell_type": "markdown",
   "metadata": {},
   "source": [
    "Stock prediction notebook - Predicting stock prices of **NASDAQ:APPL** using 30-day data from **yahoo finance**\n",
    "\n",
    "Relevant link(s) to get started with the notebook :\n",
    "https://in.finance.yahoo.com/quote/AAPL/history/\n",
    "\n",
    "**Dependencies**: <br>\n",
    "pip install csv <br>\n",
    "pip install numpy <br>\n",
    "pip install sklearn <br>\n",
    "pip install matplotlib <br>"
   ]
  },
  {
   "cell_type": "code",
   "execution_count": 1,
   "metadata": {},
   "outputs": [],
   "source": [
    "# import statements\n",
    "import csv\n",
    "import numpy as np\n",
    "from sklearn import svm as svm\n",
    "import matplotlib.pyplot as plt\n",
    "%matplotlib inline"
   ]
  },
  {
   "cell_type": "code",
   "execution_count": 2,
   "metadata": {},
   "outputs": [],
   "source": [
    "dates = []\n",
    "prices = []\n",
    "\n",
    "def get_data(filename):\n",
    "    with open(filename, 'r') as csvfile:\n",
    "        csvFileReader = csv.reader(csvfile)\n",
    "        next(csvFileReader)\n",
    "        for row in csvFileReader:\n",
    "            dates.append(int(row[0].split('-')[0]))\n",
    "            prices.append(float(row[1]))\n",
    "    return"
   ]
  },
  {
   "cell_type": "code",
   "execution_count": 6,
   "metadata": {},
   "outputs": [],
   "source": [
    "def predict_prices(dates, prices, x):\n",
    "    dates = np.reshape(dates, (len(dates), 1))\n",
    "    svr_lin = svm.SVR(kernel= 'linear', C=1e3)\n",
    "    svr_poly = svm.SVR(kernel= 'poly', C=1e3, degree = 2)\n",
    "    svr_rbf = svm.SVR(kernel= 'rbf', C=1e3, gamma = 0.1)\n",
    "    svr_lin.fit(dates, prices)\n",
    "    svr_poly.fit(dates, prices)\n",
    "    svr_rbf.fit(dates, prices)\n",
    "    \n",
    "    plt.scatter(dates, prices, color='black', label='Data')\n",
    "    plt.plot(dates, svr_rbf.predict(dates), color='red', label='Linear model')\n",
    "    plt.plot(dates, svr_lin.predict(dates), color='green', label='Polynomial model')\n",
    "    plt.xlabel('Date')\n",
    "    plt.ylabel('Price')\n",
    "    plt.title('Support Vector Regression')\n",
    "    plt.legend()\n",
    "    plt.show()\n",
    "    \n",
    "    return svr_rbf.predict(x)[0] # svr_lin.predict(x)[0], svr_poly.predict(x)[0]"
   ]
  },
  {
   "cell_type": "code",
   "execution_count": null,
   "metadata": {},
   "outputs": [
    {
     "name": "stdout",
     "output_type": "stream",
     "text": [
      "[2, 3, 4, 7, 8, 9, 10, 11, 14, 15, 16, 17, 18, 22, 23, 24, 25, 28, 29, 30, 2, 3, 4, 7, 8, 9, 10, 11, 14, 15, 16, 17, 18, 22, 23, 24, 25, 28, 29, 30, 2, 3, 4, 7, 8, 9, 10, 11, 14, 15, 16, 17, 18, 22, 23, 24, 25, 28, 29, 30, 2, 3, 4, 7, 8, 9, 10, 11, 14, 15, 16, 17, 18, 22, 23, 24, 25, 28, 29, 30]\n",
      "[154.889999, 143.979996, 144.529999, 148.699997, 149.559998, 151.289993, 152.5, 152.880005, 150.850006, 150.270004, 153.080002, 154.199997, 157.5, 156.410004, 154.149994, 154.110001, 155.479996, 155.789993, 156.25, 163.25, 154.889999, 143.979996, 144.529999, 148.699997, 149.559998, 151.289993, 152.5, 152.880005, 150.850006, 150.270004, 153.080002, 154.199997, 157.5, 156.410004, 154.149994, 154.110001, 155.479996, 155.789993, 156.25, 163.25, 154.889999, 143.979996, 144.529999, 148.699997, 149.559998, 151.289993, 152.5, 152.880005, 150.850006, 150.270004, 153.080002, 154.199997, 157.5, 156.410004, 154.149994, 154.110001, 155.479996, 155.789993, 156.25, 163.25, 154.889999, 143.979996, 144.529999, 148.699997, 149.559998, 151.289993, 152.5, 152.880005, 150.850006, 150.270004, 153.080002, 154.199997, 157.5, 156.410004, 154.149994, 154.110001, 155.479996, 155.789993, 156.25, 163.25]\n"
     ]
    },
    {
     "name": "stderr",
     "output_type": "stream",
     "text": [
      "G:\\Anaconda3\\lib\\site-packages\\sklearn\\svm\\base.py:196: FutureWarning: The default value of gamma will change from 'auto' to 'scale' in version 0.22 to account better for unscaled features. Set gamma explicitly to 'auto' or 'scale' to avoid this warning.\n",
      "  \"avoid this warning.\", FutureWarning)\n"
     ]
    }
   ],
   "source": [
    "get_data('AAPL.csv')\n",
    "print(dates)\n",
    "print(prices)\n",
    "predict_prices(dates, prices, 29)\n",
    "#print(\"Predicted Price = \", predicted_price)"
   ]
  },
  {
   "cell_type": "code",
   "execution_count": null,
   "metadata": {},
   "outputs": [],
   "source": []
  }
 ],
 "metadata": {
  "kernelspec": {
   "display_name": "Python 3",
   "language": "python",
   "name": "python3"
  },
  "language_info": {
   "codemirror_mode": {
    "name": "ipython",
    "version": 3
   },
   "file_extension": ".py",
   "mimetype": "text/x-python",
   "name": "python",
   "nbconvert_exporter": "python",
   "pygments_lexer": "ipython3",
   "version": "3.5.6"
  }
 },
 "nbformat": 4,
 "nbformat_minor": 2
}
