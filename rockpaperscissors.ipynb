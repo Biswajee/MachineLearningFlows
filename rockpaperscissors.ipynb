{
 "cells": [
  {
   "cell_type": "markdown",
   "metadata": {
    "colab_type": "text",
    "id": "MtWwKDBaesBa"
   },
   "source": [
    "**Download necessary resources**"
   ]
  },
  {
   "cell_type": "code",
   "execution_count": 0,
   "metadata": {
    "colab": {
     "base_uri": "https://localhost:8080/",
     "height": 204
    },
    "colab_type": "code",
    "id": "N7XY2Rxle48-",
    "outputId": "48a57b88-6ce3-42aa-bfc2-ec2e71a52473"
   },
   "outputs": [
    {
     "name": "stdout",
     "output_type": "stream",
     "text": [
      "--2019-10-06 12:14:30--  https://storage.googleapis.com/laurencemoroney-blog.appspot.com/rps.zip\n",
      "Resolving storage.googleapis.com (storage.googleapis.com)... 172.217.212.128, 2607:f8b0:4001:c1d::80\n",
      "Connecting to storage.googleapis.com (storage.googleapis.com)|172.217.212.128|:443... connected.\n",
      "HTTP request sent, awaiting response... 200 OK\n",
      "Length: 200682221 (191M) [application/zip]\n",
      "Saving to: ‘/tmp/rps.zip’\n",
      "\n",
      "/tmp/rps.zip        100%[===================>] 191.38M  56.8MB/s    in 3.4s    \n",
      "\n",
      "2019-10-06 12:14:33 (56.8 MB/s) - ‘/tmp/rps.zip’ saved [200682221/200682221]\n",
      "\n"
     ]
    }
   ],
   "source": [
    "! wget --no-check-certificate https://storage.googleapis.com/laurencemoroney-blog.appspot.com/rps.zip -O /tmp/rps.zip"
   ]
  },
  {
   "cell_type": "code",
   "execution_count": 0,
   "metadata": {
    "colab": {
     "base_uri": "https://localhost:8080/",
     "height": 204
    },
    "colab_type": "code",
    "id": "zIKmv4Qdfmj8",
    "outputId": "145d2903-0acd-4455-e54d-be16674fcbb8"
   },
   "outputs": [
    {
     "name": "stdout",
     "output_type": "stream",
     "text": [
      "--2019-10-06 12:14:36--  https://storage.googleapis.com/laurencemoroney-blog.appspot.com/rps-test-set.zip\n",
      "Resolving storage.googleapis.com (storage.googleapis.com)... 108.177.111.128, 2607:f8b0:4001:c05::80\n",
      "Connecting to storage.googleapis.com (storage.googleapis.com)|108.177.111.128|:443... connected.\n",
      "HTTP request sent, awaiting response... 200 OK\n",
      "Length: 29516758 (28M) [application/zip]\n",
      "Saving to: ‘/tmp/rps-test-set.zip’\n",
      "\n",
      "\r",
      "/tmp/rps-test-set.z   0%[                    ]       0  --.-KB/s               \r",
      "/tmp/rps-test-set.z  57%[==========>         ]  16.11M  80.3MB/s               \r",
      "/tmp/rps-test-set.z  78%[==============>     ]  22.01M  52.0MB/s               \r",
      "/tmp/rps-test-set.z 100%[===================>]  28.15M  63.4MB/s    in 0.4s    \n",
      "\n",
      "2019-10-06 12:14:37 (63.4 MB/s) - ‘/tmp/rps-test-set.zip’ saved [29516758/29516758]\n",
      "\n"
     ]
    }
   ],
   "source": [
    "! wget --no-check-certificate https://storage.googleapis.com/laurencemoroney-blog.appspot.com/rps-test-set.zip -O /tmp/rps-test-set.zip"
   ]
  },
  {
   "cell_type": "markdown",
   "metadata": {
    "colab_type": "text",
    "id": "xpKhmCeBgqwC"
   },
   "source": [
    "**Unzipping downloaded files**"
   ]
  },
  {
   "cell_type": "code",
   "execution_count": 0,
   "metadata": {
    "colab": {},
    "colab_type": "code",
    "id": "1CP4LQSegvfo"
   },
   "outputs": [],
   "source": [
    "import os\n",
    "import zipfile\n",
    "\n",
    "local_zip = '/tmp/rps.zip'\n",
    "zip_ref = zipfile.ZipFile(local_zip, 'r')\n",
    "zip_ref.extractall('/tmp/')\n",
    "zip_ref.close()\n",
    "\n",
    "local_zip = '/tmp/rps-test-set.zip'\n",
    "zip_ref = zipfile.ZipFile(local_zip, 'r')\n",
    "zip_ref.extractall('/tmp/')\n",
    "zip_ref.close()"
   ]
  },
  {
   "cell_type": "markdown",
   "metadata": {
    "colab_type": "text",
    "id": "uuwrKk-lh7K-"
   },
   "source": [
    "**Generating training set**"
   ]
  },
  {
   "cell_type": "code",
   "execution_count": 0,
   "metadata": {
    "colab": {
     "base_uri": "https://localhost:8080/",
     "height": 51
    },
    "colab_type": "code",
    "id": "FEomBEyYh_uV",
    "outputId": "53529223-274f-40d9-b661-4aeb7164c4fc"
   },
   "outputs": [
    {
     "name": "stderr",
     "output_type": "stream",
     "text": [
      "Using TensorFlow backend.\n"
     ]
    },
    {
     "name": "stdout",
     "output_type": "stream",
     "text": [
      "Found 2520 images belonging to 3 classes.\n"
     ]
    }
   ],
   "source": [
    "from  keras.preprocessing.image import ImageDataGenerator\n",
    "import keras.preprocessing.image\n",
    "\n",
    "TRAINING_DIR = '/tmp/rps/'\n",
    "\n",
    "training_datagen = ImageDataGenerator(rescale = 1./255)\n",
    "train_generator = training_datagen.flow_from_directory(\n",
    "                  TRAINING_DIR,\n",
    "                  target_size = (150, 150),\n",
    "                  class_mode = 'categorical')"
   ]
  },
  {
   "cell_type": "markdown",
   "metadata": {
    "colab_type": "text",
    "id": "UACLj4wVn_wo"
   },
   "source": [
    "**Generating validation set**"
   ]
  },
  {
   "cell_type": "code",
   "execution_count": 0,
   "metadata": {
    "colab": {
     "base_uri": "https://localhost:8080/",
     "height": 34
    },
    "colab_type": "code",
    "id": "LVhCKsFzoDVd",
    "outputId": "2952a9ac-f3e5-4504-8b77-e68c3bfd922d"
   },
   "outputs": [
    {
     "name": "stdout",
     "output_type": "stream",
     "text": [
      "Found 372 images belonging to 3 classes.\n"
     ]
    }
   ],
   "source": [
    "VALIDATION_DIR = '/tmp/rps-test-set/'\n",
    "\n",
    "validation_datagen = ImageDataGenerator(rescale = 1./255)\n",
    "validation_generator = validation_datagen.flow_from_directory(\n",
    "                  VALIDATION_DIR,\n",
    "                  target_size = (150, 150),\n",
    "                  class_mode = 'categorical')"
   ]
  },
  {
   "cell_type": "markdown",
   "metadata": {
    "colab_type": "text",
    "id": "fO5n2GcSoqdq"
   },
   "source": [
    "**Prepare the model**"
   ]
  },
  {
   "cell_type": "code",
   "execution_count": 0,
   "metadata": {
    "colab": {
     "base_uri": "https://localhost:8080/",
     "height": 938
    },
    "colab_type": "code",
    "id": "CwFOwctAovDI",
    "outputId": "f6507e54-b2fd-4cf4-f034-08a860eb07c7"
   },
   "outputs": [
    {
     "name": "stdout",
     "output_type": "stream",
     "text": [
      "WARNING:tensorflow:From /usr/local/lib/python3.6/dist-packages/tensorflow/python/ops/init_ops.py:1251: calling VarianceScaling.__init__ (from tensorflow.python.ops.init_ops) with dtype is deprecated and will be removed in a future version.\n",
      "Instructions for updating:\n",
      "Call initializer instance with the dtype argument instead of passing it to the constructor\n",
      "Epoch 1/25\n",
      "79/79 [==============================] - 176s 2s/step - loss: 0.5532 - acc: 0.7595 - val_loss: 0.5912 - val_acc: 0.8790\n",
      "Epoch 2/25\n",
      "79/79 [==============================] - 178s 2s/step - loss: 0.1300 - acc: 0.9766 - val_loss: 0.8357 - val_acc: 0.8253\n",
      "Epoch 3/25\n",
      "79/79 [==============================] - 172s 2s/step - loss: 0.0068 - acc: 0.9984 - val_loss: 1.0468 - val_acc: 0.8629\n",
      "Epoch 4/25\n",
      "79/79 [==============================] - 171s 2s/step - loss: 0.0300 - acc: 0.9944 - val_loss: 1.3489 - val_acc: 0.7984\n",
      "Epoch 5/25\n",
      "79/79 [==============================] - 172s 2s/step - loss: 5.7897e-04 - acc: 1.0000 - val_loss: 2.1182 - val_acc: 0.8333\n",
      "Epoch 6/25\n",
      "79/79 [==============================] - 173s 2s/step - loss: 0.0420 - acc: 0.9909 - val_loss: 1.8540 - val_acc: 0.8280\n",
      "Epoch 7/25\n",
      "79/79 [==============================] - 174s 2s/step - loss: 2.9597e-04 - acc: 1.0000 - val_loss: 2.5072 - val_acc: 0.8495\n",
      "Epoch 8/25\n",
      "79/79 [==============================] - 171s 2s/step - loss: 1.4435e-06 - acc: 1.0000 - val_loss: 6.0175 - val_acc: 0.6962\n",
      "Epoch 9/25\n",
      "79/79 [==============================] - 172s 2s/step - loss: 0.0016 - acc: 0.9988 - val_loss: 3.1060 - val_acc: 0.8145\n",
      "Epoch 10/25\n",
      "79/79 [==============================] - 172s 2s/step - loss: 0.0318 - acc: 0.9952 - val_loss: 2.9546 - val_acc: 0.8656\n",
      "Epoch 11/25\n",
      "79/79 [==============================] - 174s 2s/step - loss: 0.0024 - acc: 0.9996 - val_loss: 4.8348 - val_acc: 0.7796\n",
      "Epoch 12/25\n",
      "79/79 [==============================] - 176s 2s/step - loss: 0.0193 - acc: 0.9956 - val_loss: 4.2714 - val_acc: 0.8414\n",
      "Epoch 13/25\n",
      "79/79 [==============================] - 173s 2s/step - loss: 0.0282 - acc: 0.9968 - val_loss: 4.6706 - val_acc: 0.7366\n",
      "Epoch 14/25\n",
      "79/79 [==============================] - 174s 2s/step - loss: 3.0766e-05 - acc: 1.0000 - val_loss: 3.0915 - val_acc: 0.8522\n",
      "Epoch 15/25\n",
      "79/79 [==============================] - 174s 2s/step - loss: 7.2151e-09 - acc: 1.0000 - val_loss: 3.4280 - val_acc: 0.8522\n",
      "Epoch 16/25\n",
      "79/79 [==============================] - 176s 2s/step - loss: 2.7351e-09 - acc: 1.0000 - val_loss: 3.4933 - val_acc: 0.8522\n",
      "Epoch 17/25\n",
      "79/79 [==============================] - 175s 2s/step - loss: 0.0059 - acc: 0.9988 - val_loss: 3.5858 - val_acc: 0.8629\n",
      "Epoch 18/25\n",
      "79/79 [==============================] - 174s 2s/step - loss: 1.6446e-06 - acc: 1.0000 - val_loss: 4.3296 - val_acc: 0.8522\n",
      "Epoch 19/25\n",
      "79/79 [==============================] - 170s 2s/step - loss: 0.0103 - acc: 0.9992 - val_loss: 5.4941 - val_acc: 0.8306\n",
      "Epoch 20/25\n",
      "79/79 [==============================] - 172s 2s/step - loss: 2.1040e-07 - acc: 1.0000 - val_loss: 6.0160 - val_acc: 0.8333\n",
      "Epoch 21/25\n",
      "79/79 [==============================] - 171s 2s/step - loss: 1.8359e-08 - acc: 1.0000 - val_loss: 6.0850 - val_acc: 0.8414\n",
      "Epoch 22/25\n",
      "79/79 [==============================] - 172s 2s/step - loss: 0.0027 - acc: 0.9996 - val_loss: 2.8617 - val_acc: 0.8683\n",
      "Epoch 23/25\n",
      "79/79 [==============================] - 173s 2s/step - loss: 3.5486e-07 - acc: 1.0000 - val_loss: 2.9524 - val_acc: 0.8817\n",
      "Epoch 24/25\n",
      "79/79 [==============================] - 171s 2s/step - loss: 0.0082 - acc: 0.9988 - val_loss: 5.4374 - val_acc: 0.8468\n",
      "Epoch 25/25\n",
      "79/79 [==============================] - 174s 2s/step - loss: 2.4504e-07 - acc: 1.0000 - val_loss: 5.6065 - val_acc: 0.8414\n"
     ]
    }
   ],
   "source": [
    "import tensorflow as tf\n",
    "\n",
    "model = tf.keras.models.Sequential([\n",
    "        tf.keras.layers.Conv2D(64, (3,3), activation='relu', input_shape=(150, 150, 3)),\n",
    "        tf.keras.layers.MaxPooling2D(2,2),\n",
    "        tf.keras.layers.Conv2D(64, (3,3), activation='relu'),\n",
    "        tf.keras.layers.MaxPooling2D(2,2),\n",
    "        tf.keras.layers.Conv2D(128, (3,3), activation='relu'),\n",
    "        tf.keras.layers.MaxPooling2D(2,2),\n",
    "        tf.keras.layers.Conv2D(128, (3,3), activation='relu'),\n",
    "        tf.keras.layers.MaxPooling2D(2,2),\n",
    "        \n",
    "        # flatten the results to feed into a DNN\n",
    "\n",
    "        tf.keras.layers.Flatten(),\n",
    "        tf.keras.layers.Dropout(0.5),\n",
    "\n",
    "        # 512 hidden neuron layer\n",
    "\n",
    "        tf.keras.layers.Dense(512, activation='relu'),\n",
    "        tf.keras.layers.Dense(3, activation='softmax')])\n",
    "\n",
    "model.compile(loss='categorical_crossentropy',\n",
    "              optimizer='rmsprop',\n",
    "              metrics=['accuracy'])\n",
    "\n",
    "history = model.fit_generator(train_generator, epochs=25,\n",
    "                              validation_data = validation_generator,\n",
    "                              workers=4,\n",
    "                              verbose=1)"
   ]
  },
  {
   "cell_type": "code",
   "execution_count": 0,
   "metadata": {
    "colab": {},
    "colab_type": "code",
    "id": "KMqdmbsQEWvV"
   },
   "outputs": [],
   "source": [
    "model.save('rps.h5')"
   ]
  }
 ],
 "metadata": {
  "colab": {
   "collapsed_sections": [],
   "name": "rockpaperscissors.ipynb",
   "provenance": []
  },
  "kernelspec": {
   "display_name": "Python 3",
   "language": "python",
   "name": "python3"
  },
  "language_info": {
   "codemirror_mode": {
    "name": "ipython",
    "version": 3
   },
   "file_extension": ".py",
   "mimetype": "text/x-python",
   "name": "python",
   "nbconvert_exporter": "python",
   "pygments_lexer": "ipython3",
   "version": "3.5.6"
  }
 },
 "nbformat": 4,
 "nbformat_minor": 1
}
