{
 "cells": [
  {
   "cell_type": "code",
   "execution_count": 1,
   "metadata": {},
   "outputs": [],
   "source": [
    "import numpy as np\n",
    "import os\n",
    "import copy\n",
    "from scipy.ndimage import imread\n",
    "from scipy.spatial.distance import cdist"
   ]
  },
  {
   "cell_type": "code",
   "execution_count": 2,
   "metadata": {},
   "outputs": [],
   "source": [
    "# Parameters\n",
    "nrun = 20\n",
    "path_to_script_dir = os.path.abspath('')\n",
    "path_to_all_runs = os.path.join(path_to_script_dir, 'all_runs')\n",
    "fname_label = 'class_labels.txt' # this is where class labels are stored for each run"
   ]
  },
  {
   "cell_type": "code",
   "execution_count": 3,
   "metadata": {},
   "outputs": [],
   "source": [
    "def LoadImgAsPoints(fn):\n",
    "    #\n",
    "    # Load image file and return coordinates of 'inked' pixels in the binary image \n",
    "    #\n",
    "    # Output:\n",
    "    # D : [n x 2] rows are coordinates\n",
    "    I = imread(fn, flatten=True)\n",
    "    I = np.array(I, dtype=bool)\n",
    "    I = np.logical_not(I)\n",
    "    (row, col) = I.nonzero()\n",
    "    D = np.array([row,col])\n",
    "    D = np.transpose(D)\n",
    "    D = D.astype(float)\n",
    "    n = D.shape[0]\n",
    "    mean = np.mean(D,axis=0)\n",
    "    for i in range(n):\n",
    "        D[i,:] = D[i,:] - mean\n",
    "    return D\n",
    "\n",
    "def ModHausdorffDistance(itemA, itemB):\n",
    "    # Modified Hausdorff Distance\n",
    "    #\n",
    "    # Input\n",
    "    # itemA: [n x 2] coordinates of \"inked\" pixels\n",
    "    # itemB: [n x 2] coordinates of \"inked\" pixels\n",
    "    #\n",
    "    D = cdist(itemA, itemB)\n",
    "    mindist_A = D.min(axis=1)\n",
    "    mindist_B = D.min(axis=0)\n",
    "    mean_A = np.mean(mindist_A)\n",
    "    mean_B = np.mean(mindist_B)\n",
    "    return max(mean_A,mean_B)\n",
    "\n",
    "def classification_run(folder, f_load, f_cost, ftype='cost'):\n",
    "    assert((ftype=='cost') | (ftype=='score'))\n",
    "    \n",
    "    # get file names\n",
    "    with open(os.path.join(path_to_script_dir, 'all_runs\\\\run01\\\\class_labels.txt')) as f:\n",
    "        content = f.read().splitlines()\n",
    "        pairs = [line.split() for line in content]\n",
    "        test_files = [pair[0] for pair in pairs]\n",
    "        train_files = [pair[1] for pair in pairs]\n",
    "        answer_files = copy.copy(train_files)\n",
    "        test_files.sort()\n",
    "        train_files.sort()\n",
    "        ntrain = len(train_files)\n",
    "        ntest = len(test_files)\n",
    "        \n",
    "        # load the images (and if needed, extract features)\n",
    "        train_items = [f_load(f) for f in train_files]\n",
    "        test_items = [f_load(f) for f in test_files]\n",
    "        \n",
    "        # compute cost matrix\n",
    "        costM = np.zeros((ntest,ntrain), float)\n",
    "        for i in range(ntest):\n",
    "            for c in range(ntrain):\n",
    "                costM[i,c] = f_cost(test_items[i], train_items[c])\n",
    "        if ftype == 'cost':\n",
    "            YHAT = np.argmin(costM, axis=1)\n",
    "        elif ftype == 'score':\n",
    "            YHAT = np.argmax(costM, axis=1)\n",
    "        else:\n",
    "            assert false\n",
    "            \n",
    "        \n",
    "        # compute the error rate\n",
    "        correct = 0.0\n",
    "        for i in range(ntest):\n",
    "            if train_files[YHAT[i]] == answer_files[i]:\n",
    "                correct = 1.0\n",
    "        pcorrect = 100 * correct / ntest\n",
    "        perror = 100 - pcorrect\n",
    "        return perror\n"
   ]
  },
  {
   "cell_type": "code",
   "execution_count": 4,
   "metadata": {},
   "outputs": [
    {
     "data": {
      "text/plain": [
       "'C:\\\\Users\\\\Biswajit Roy\\\\Desktop\\\\future\\\\MachineLearningFlows'"
      ]
     },
     "execution_count": 4,
     "metadata": {},
     "output_type": "execute_result"
    }
   ],
   "source": [
    "os.path.abspath('')"
   ]
  },
  {
   "cell_type": "code",
   "execution_count": 5,
   "metadata": {},
   "outputs": [
    {
     "data": {
      "text/plain": [
       "'C:\\\\Users\\\\Biswajit Roy\\\\Desktop\\\\future\\\\MachineLearningFlows\\\\all_runs\\\\run01'"
      ]
     },
     "execution_count": 5,
     "metadata": {},
     "output_type": "execute_result"
    }
   ],
   "source": [
    "os.path.join(path_to_script_dir, 'all_runs\\\\run01')"
   ]
  },
  {
   "cell_type": "code",
   "execution_count": 6,
   "metadata": {},
   "outputs": [
    {
     "name": "stdout",
     "output_type": "stream",
     "text": [
      "['all_runs/run01/test/item01.png all_runs/run01/training/class08.png', 'all_runs/run01/test/item02.png all_runs/run01/training/class09.png', 'all_runs/run01/test/item03.png all_runs/run01/training/class02.png', 'all_runs/run01/test/item04.png all_runs/run01/training/class19.png', 'all_runs/run01/test/item05.png all_runs/run01/training/class10.png', 'all_runs/run01/test/item06.png all_runs/run01/training/class18.png', 'all_runs/run01/test/item07.png all_runs/run01/training/class13.png', 'all_runs/run01/test/item08.png all_runs/run01/training/class01.png', 'all_runs/run01/test/item09.png all_runs/run01/training/class04.png', 'all_runs/run01/test/item10.png all_runs/run01/training/class11.png', 'all_runs/run01/test/item11.png all_runs/run01/training/class17.png', 'all_runs/run01/test/item12.png all_runs/run01/training/class03.png', 'all_runs/run01/test/item13.png all_runs/run01/training/class20.png', 'all_runs/run01/test/item14.png all_runs/run01/training/class07.png', 'all_runs/run01/test/item15.png all_runs/run01/training/class12.png', 'all_runs/run01/test/item16.png all_runs/run01/training/class05.png', 'all_runs/run01/test/item17.png all_runs/run01/training/class06.png', 'all_runs/run01/test/item18.png all_runs/run01/training/class15.png', 'all_runs/run01/test/item19.png all_runs/run01/training/class14.png', 'all_runs/run01/test/item20.png all_runs/run01/training/class16.png']\n"
     ]
    }
   ],
   "source": [
    "with open(os.path.join(path_to_script_dir, 'all_runs\\\\run01\\\\class_labels.txt')) as f:\n",
    "    print(f.read().splitlines())"
   ]
  },
  {
   "cell_type": "code",
   "execution_count": 7,
   "metadata": {},
   "outputs": [
    {
     "name": "stdout",
     "output_type": "stream",
     "text": [
      "One-shot classification done with Modified Hausdorff Distance\n"
     ]
    },
    {
     "name": "stderr",
     "output_type": "stream",
     "text": [
      "G:\\Anaconda3\\lib\\site-packages\\ipykernel_launcher.py:7: DeprecationWarning: `imread` is deprecated!\n",
      "`imread` is deprecated in SciPy 1.0.0.\n",
      "Use ``matplotlib.pyplot.imread`` instead.\n",
      "  import sys\n"
     ]
    },
    {
     "name": "stdout",
     "output_type": "stream",
     "text": [
      "run 1 (error 95.0%)\n",
      "Average error 4.75%\n",
      "run 2 (error 95.0%)\n",
      "Average error 9.5%\n",
      "run 3 (error 95.0%)\n",
      "Average error 14.25%\n",
      "run 4 (error 95.0%)\n",
      "Average error 19.0%\n",
      "run 5 (error 95.0%)\n",
      "Average error 23.75%\n",
      "run 6 (error 95.0%)\n",
      "Average error 28.5%\n",
      "run 7 (error 95.0%)\n",
      "Average error 33.25%\n",
      "run 8 (error 95.0%)\n",
      "Average error 38.0%\n",
      "run 9 (error 95.0%)\n",
      "Average error 42.75%\n",
      "run 10 (error 95.0%)\n",
      "Average error 47.5%\n",
      "run 11 (error 95.0%)\n",
      "Average error 52.25%\n",
      "run 12 (error 95.0%)\n",
      "Average error 57.0%\n",
      "run 13 (error 95.0%)\n",
      "Average error 61.75%\n",
      "run 14 (error 95.0%)\n",
      "Average error 66.5%\n",
      "run 15 (error 95.0%)\n",
      "Average error 71.25%\n",
      "run 16 (error 95.0%)\n",
      "Average error 76.0%\n",
      "run 17 (error 95.0%)\n",
      "Average error 80.75%\n",
      "run 18 (error 95.0%)\n",
      "Average error 85.5%\n",
      "run 19 (error 95.0%)\n",
      "Average error 90.25%\n",
      "run 20 (error 95.0%)\n",
      "Average error 95.0%\n"
     ]
    }
   ],
   "source": [
    "if __name__ == \"__main__\":\n",
    "    # \n",
    "    # Running this demo should lead to a result of 38.0% errors\n",
    "    # A modified hausdroff distance for object matching\n",
    "    #\n",
    "    print(\"One-shot classification done with Modified Hausdorff Distance\")\n",
    "    perror = np.zeros(nrun)\n",
    "    for r in range(1, nrun+1):\n",
    "        rs = str(r)\n",
    "        if len(rs) == 1:\n",
    "            rs = '0' + rs\n",
    "        perror[r-1] = classification_run('run'+rs, LoadImgAsPoints, ModHausdorffDistance, 'cost')\n",
    "        print(\"run \" + str(r) + \" (error \" + str(perror[r-1]) + \"%)\")\n",
    "        total = np.mean(perror)\n",
    "        print(\"Average error \" + str(total) + \"%\")       "
   ]
  },
  {
   "cell_type": "code",
   "execution_count": null,
   "metadata": {},
   "outputs": [],
   "source": []
  }
 ],
 "metadata": {
  "kernelspec": {
   "display_name": "Python 3",
   "language": "python",
   "name": "python3"
  },
  "language_info": {
   "codemirror_mode": {
    "name": "ipython",
    "version": 3
   },
   "file_extension": ".py",
   "mimetype": "text/x-python",
   "name": "python",
   "nbconvert_exporter": "python",
   "pygments_lexer": "ipython3",
   "version": "3.5.6"
  }
 },
 "nbformat": 4,
 "nbformat_minor": 2
}
